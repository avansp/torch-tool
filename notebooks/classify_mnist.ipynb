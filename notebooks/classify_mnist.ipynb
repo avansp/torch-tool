{
 "cells": [
  {
   "cell_type": "markdown",
   "metadata": {},
   "source": [
    "# MNIST classification\n",
    "----\n",
    "\n",
    "Source: https://nextjournal.com/gkoehler/pytorch-mnist"
   ]
  },
  {
   "cell_type": "code",
   "execution_count": 1,
   "metadata": {},
   "outputs": [
    {
     "name": "stdout",
     "output_type": "stream",
     "text": [
      "Torch ver.1.6.0a0+e088902 running cuda\n"
     ]
    }
   ],
   "source": [
    "%matplotlib inline\n",
    "import matplotlib.pyplot as plt\n",
    "\n",
    "import torch\n",
    "import torchvision as tv\n",
    "import torch_tool as tt\n",
    "import multiprocessing\n",
    "from torch import nn\n",
    "import torch.nn.functional as F\n",
    "import os\n",
    "\n",
    "dev = 'cuda' if torch.cuda.is_available() else 'cpu'\n",
    "print(f\"Torch ver.{torch.__version__} running {dev}\")"
   ]
  },
  {
   "cell_type": "markdown",
   "metadata": {},
   "source": [
    "## Create from scratch"
   ]
  },
  {
   "cell_type": "code",
   "execution_count": 2,
   "metadata": {},
   "outputs": [],
   "source": [
    "class MNISTNet(nn.Module):\n",
    "    \n",
    "    def __init__(self):\n",
    "        super(MNISTNet, self).__init__()\n",
    "        self.conv1 = nn.Conv2d(1, 10, kernel_size=5)\n",
    "        self.conv2 = nn.Conv2d(10, 20, kernel_size=5)\n",
    "        self.conv2_drop = nn.Dropout2d()\n",
    "        self.fc1 = nn.Linear(320, 50)\n",
    "        self.fc2 = nn.Linear(50, 10)\n",
    "\n",
    "    def forward(self, x):\n",
    "        x = F.relu(F.max_pool2d(self.conv1(x), 2))\n",
    "        x = F.relu(F.max_pool2d(self.conv2_drop(self.conv2(x)), 2))\n",
    "        x = x.view(-1, 320)\n",
    "        x = F.relu(self.fc1(x))\n",
    "        x = F.dropout(x, training=self.training)\n",
    "        x = self.fc2(x)\n",
    "        return F.log_softmax(x,dim=1)"
   ]
  },
  {
   "cell_type": "markdown",
   "metadata": {},
   "source": [
    "Use directly the BaseTrainer. No need to modify."
   ]
  },
  {
   "cell_type": "code",
   "execution_count": 3,
   "metadata": {},
   "outputs": [],
   "source": [
    "mnist = tt.BaseTrainer(log_dir=r\"/mnt/data/train_camp/classify_mnist\", model_name=\"SimpleFCN\", device=dev)\n",
    "mnist.model = MNISTNet()\n",
    "mnist.optimizer = torch.optim.SGD(mnist.model.parameters(), lr=0.1, momentum=0.9)\n",
    "mnist.loss = F.nll_loss"
   ]
  },
  {
   "cell_type": "markdown",
   "metadata": {},
   "source": [
    "Set loaders if they haven't been created. Load if they exist."
   ]
  },
  {
   "cell_type": "code",
   "execution_count": 4,
   "metadata": {},
   "outputs": [],
   "source": [
    "if all([os.path.isfile(os.path.join(mnist.root_dir, f)) for f in ['train_loader.pth','val_loader.pth','test_loader.pth']]):\n",
    "    # load\n",
    "    mnist.load_loaders()\n",
    "else:\n",
    "    mnist.set_loader(\n",
    "        dataset=tv.datasets.MNIST(root=r\"/mnt/data/data\", train=True, download=True, \n",
    "                                  transform=tv.transforms.Compose([\n",
    "                                      tv.transforms.ToTensor()\n",
    "                                  ])),\n",
    "        batch_size=64,\n",
    "        num_cpus=multiprocessing.cpu_count(),\n",
    "        split=[0.7,0.2,0.1]\n",
    "    )\n",
    "    \n",
    "    # save\n",
    "    mnist.save_loaders()\n"
   ]
  },
  {
   "cell_type": "markdown",
   "metadata": {},
   "source": [
    "Run the training"
   ]
  },
  {
   "cell_type": "code",
   "execution_count": 5,
   "metadata": {},
   "outputs": [
    {
     "name": "stderr",
     "output_type": "stream",
     "text": [
      "  0%|          | 0/42000 [00:00<?, ?it/s]"
     ]
    },
    {
     "name": "stdout",
     "output_type": "stream",
     "text": [
      "BaseTrainer: reset the training, validation & test results.\n"
     ]
    },
    {
     "name": "stderr",
     "output_type": "stream",
     "text": [
      "Epoch 1: 100%|██████████| 42000/42000 [00:15<00:00, 2633.75it/s, loss=1.2792]\n",
      "Epoch 2: 100%|██████████| 42000/42000 [00:14<00:00, 2914.33it/s, loss=1.3529]\n",
      "Epoch 3: 100%|██████████| 42000/42000 [00:14<00:00, 2808.91it/s, loss=0.9226]\n",
      "Epoch 4: 100%|██████████| 42000/42000 [00:15<00:00, 2760.62it/s, loss=0.4993]\n",
      "Epoch 5: 100%|██████████| 42000/42000 [00:14<00:00, 2850.72it/s, loss=0.8428]\n"
     ]
    }
   ],
   "source": [
    "mnist.run(5)"
   ]
  },
  {
   "cell_type": "markdown",
   "metadata": {},
   "source": [
    "## Analyse"
   ]
  },
  {
   "cell_type": "code",
   "execution_count": 11,
   "metadata": {},
   "outputs": [
    {
     "data": {
      "image/png": "[encoded data removed]",
      "text/plain": [
       "<Figure size 432x288 with 1 Axes>"
      ]
     },
     "metadata": {
      "needs_background": "light"
     },
     "output_type": "display_data"
    }
   ],
   "source": [
    "ax = plt.axes(xlabel='EPOCH')\n",
    "ax.set_title('Test Losses')\n",
    "bp = ax.boxplot(mnist.test_result['loss'].numpy())"
   ]
  },
  {
   "cell_type": "code",
   "execution_count": null,
   "metadata": {},
   "outputs": [],
   "source": []
  }
 ],
 "metadata": {
  "kernelspec": {
   "display_name": "Python 3",
   "language": "python",
   "name": "python3"
  },
  "language_info": {
   "codemirror_mode": {
    "name": "ipython",
    "version": 3
   },
   "file_extension": ".py",
   "mimetype": "text/x-python",
   "name": "python",
   "nbconvert_exporter": "python",
   "pygments_lexer": "ipython3",
   "version": "3.7.7"
  }
 },
 "nbformat": 4,
 "nbformat_minor": 4
}
